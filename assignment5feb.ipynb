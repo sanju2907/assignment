{
 "cells": [
  {
   "cell_type": "markdown",
   "id": "9cf6af7d-eace-405b-9b45-a99ae395b01c",
   "metadata": {},
   "source": [
    "Q1. Explain Class and Object with respect to Object-Oriented Programming. Give a suitable example."
   ]
  },
  {
   "cell_type": "markdown",
   "id": "9f26b003-f5fd-4d8c-8cb6-5b122727dc9a",
   "metadata": {},
   "source": [
    "###ans :-\n",
    "A Class in object oriented programming is a blueprint or prototype that defines the variables and the methods (functions) \n",
    "An object in OOPS is a specimen of a class."
   ]
  },
  {
   "cell_type": "markdown",
   "id": "72d65df1-8fff-497c-bc33-e0c2fdf11262",
   "metadata": {},
   "source": [
    "Q2. Name the four pillars of OOPs. \n"
   ]
  },
  {
   "cell_type": "markdown",
   "id": "e88d8dd6-c8a3-49b3-a250-0a00a3c212a0",
   "metadata": {},
   "source": [
    "ans:- \n",
    "Inheritance.\n",
    "Polymorphism.\n",
    "Encapsulation.\n",
    "Abstraction."
   ]
  },
  {
   "cell_type": "markdown",
   "id": "77bcb990-b22f-46dc-be08-050e87b396f9",
   "metadata": {},
   "source": [
    "Q3. Explain why the __init__() function is used. Give a suitable example."
   ]
  },
  {
   "cell_type": "code",
   "execution_count": 26,
   "id": "496cdaa5-39bc-4328-8a82-72a8f8b1e7d3",
   "metadata": {},
   "outputs": [],
   "source": [
    "###ans:- The __init__is a  Constructor . Constructors are used to initializing the object’s state.\n",
    "class person :\n",
    "    def __init__(self,student_name,student_phone_number):\n",
    "        self.student_name = student_name\n",
    "        self.student_phone_number = student_phone_number\n",
    "    def return_data(self):\n",
    "        return(self.student_name,self.student_phone_number)\n"
   ]
  },
  {
   "cell_type": "code",
   "execution_count": 28,
   "id": "2e75b3e4-6abf-4d9a-b8c7-340a5f8d930b",
   "metadata": {},
   "outputs": [],
   "source": [
    "sanju = person(\"sneha\",7807131595)"
   ]
  },
  {
   "cell_type": "code",
   "execution_count": 30,
   "id": "354c08ad-5d63-4d90-ac0a-06b383f665b7",
   "metadata": {},
   "outputs": [
    {
     "data": {
      "text/plain": [
       "('sneha', 7807131595)"
      ]
     },
     "execution_count": 30,
     "metadata": {},
     "output_type": "execute_result"
    }
   ],
   "source": [
    "sanju.return_data()"
   ]
  },
  {
   "cell_type": "markdown",
   "id": "ec57c5f7-6a95-4f79-b490-18bc9982390c",
   "metadata": {},
   "source": [
    "Q4. Why self is used in OOPs? "
   ]
  },
  {
   "cell_type": "markdown",
   "id": "cd843f34-f15a-4e53-b11f-463aa86a39e7",
   "metadata": {},
   "source": [
    "###ans:-\n",
    "basically it is used to create a pointer\n",
    "we use something else instead of self\n"
   ]
  },
  {
   "cell_type": "markdown",
   "id": "91e478bd-07fa-4bed-8f6e-c57503f8bea1",
   "metadata": {},
   "source": [
    "Q5. What is inheritance? Give an example for each type of inheritance. "
   ]
  },
  {
   "cell_type": "code",
   "execution_count": 61,
   "id": "5303a441-3f41-4dde-96fa-b4147f72b046",
   "metadata": {},
   "outputs": [],
   "source": [
    "###ans:- Inheritance allows us to define a class \n",
    "### example:-\n",
    "class Person:\n",
    "    def __init__(self, firstname, lastname):\n",
    "        self.firstname = firstname\n",
    "        self.lastname = lastname\n",
    "    def return_name(self):\n",
    "        return(self.firstname, self.lastname)"
   ]
  },
  {
   "cell_type": "code",
   "execution_count": 62,
   "id": "6ea9dffe-ef36-4b7d-aac7-069e58c1a4ea",
   "metadata": {},
   "outputs": [],
   "source": [
    "sanju = Person(\"sanjeev\",\"kumar\")"
   ]
  },
  {
   "cell_type": "code",
   "execution_count": 63,
   "id": "a7e6aa67-52e3-4cf7-a136-e6345ba631bb",
   "metadata": {},
   "outputs": [
    {
     "data": {
      "text/plain": [
       "'sanjeev'"
      ]
     },
     "execution_count": 63,
     "metadata": {},
     "output_type": "execute_result"
    }
   ],
   "source": [
    "sanju.firstname"
   ]
  },
  {
   "cell_type": "code",
   "execution_count": 64,
   "id": "80ca4b03-06e3-43f1-92ce-d79cc6879ff0",
   "metadata": {},
   "outputs": [
    {
     "data": {
      "text/plain": [
       "('sanjeev', 'kumar')"
      ]
     },
     "execution_count": 64,
     "metadata": {},
     "output_type": "execute_result"
    }
   ],
   "source": [
    "sanju.return_name()"
   ]
  },
  {
   "cell_type": "code",
   "execution_count": null,
   "id": "c2b827c2-9a5e-482e-bbf6-9c8ebfd96334",
   "metadata": {},
   "outputs": [],
   "source": []
  },
  {
   "cell_type": "code",
   "execution_count": null,
   "id": "24998b45-27c5-4528-9bea-217eb3ec6903",
   "metadata": {},
   "outputs": [],
   "source": []
  }
 ],
 "metadata": {
  "kernelspec": {
   "display_name": "Python 3 (ipykernel)",
   "language": "python",
   "name": "python3"
  },
  "language_info": {
   "codemirror_mode": {
    "name": "ipython",
    "version": 3
   },
   "file_extension": ".py",
   "mimetype": "text/x-python",
   "name": "python",
   "nbconvert_exporter": "python",
   "pygments_lexer": "ipython3",
   "version": "3.10.8"
  }
 },
 "nbformat": 4,
 "nbformat_minor": 5
}
