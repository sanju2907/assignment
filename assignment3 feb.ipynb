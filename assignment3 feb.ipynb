{
 "cells": [
  {
   "cell_type": "code",
   "execution_count": null,
   "id": "4afdde38-a0ec-49cb-a7d0-f542481b2ba7",
   "metadata": {},
   "outputs": [],
   "source": [
    "\"\"\"Q1. Which keyword is used to create a function? Create a function to return a list of odd numbers in the\n",
    "range of 1 to 25.\"\"\""
   ]
  },
  {
   "cell_type": "code",
   "execution_count": 1,
   "id": "936084d3-921f-48f3-a786-1f4b7cc9ffca",
   "metadata": {},
   "outputs": [
    {
     "name": "stdout",
     "output_type": "stream",
     "text": [
      "1\n",
      "3\n",
      "5\n",
      "7\n",
      "9\n",
      "11\n",
      "13\n",
      "15\n",
      "17\n",
      "19\n",
      "21\n",
      "23\n",
      "25\n"
     ]
    }
   ],
   "source": [
    "# ans:- the define keyword is used to create a function in python.\n",
    "for i in range(1,26):\n",
    "    if i%2!=0:\n",
    "        print(i)"
   ]
  },
  {
   "cell_type": "code",
   "execution_count": null,
   "id": "a2b97806-7398-4642-93e0-ecc1e059d5b4",
   "metadata": {},
   "outputs": [],
   "source": [
    " \"\"\" Q2. Why *args and **kwargs is used in some functions? Create a function each for *args and **kwargs\n",
    "to demonstrate their use.\"\"\""
   ]
  },
  {
   "cell_type": "code",
   "execution_count": null,
   "id": "d75ff992-8b29-4bc3-a69b-192223aacfa8",
   "metadata": {},
   "outputs": [],
   "source": [
    " ### ans:- when we are sure about the number of arguments to pass in the functions."
   ]
  },
  {
   "cell_type": "code",
   "execution_count": null,
   "id": "7d22f517-dda7-49b9-90eb-73a1792e0ce0",
   "metadata": {},
   "outputs": [],
   "source": [
    "\"\"\"Q3. What is an iterator in python? Name the method used to initialise the iterator object and the method\n",
    "used for iteration. Use these methods to print the first five elements of the given list [2, 4, 6, 8, 10, 12, 14,\n",
    "16, 18, 20].\"\"\""
   ]
  },
  {
   "cell_type": "code",
   "execution_count": null,
   "id": "d92aee7f-0584-4880-89be-7cb0f6afb87f",
   "metadata": {},
   "outputs": [],
   "source": [
    "### ans :- An iterator is an object that contains a countable number of values. the methods is  __iter__() and __next__()."
   ]
  },
  {
   "cell_type": "code",
   "execution_count": null,
   "id": "8f460989-16ce-44ad-a553-be86774b0577",
   "metadata": {},
   "outputs": [],
   "source": [
    "\"\"\"Q4. What is a generator function in python? Why yield keyword is used? Give an example of a generator\n",
    "function.\"\"\""
   ]
  },
  {
   "cell_type": "code",
   "execution_count": null,
   "id": "d7716a80-2081-4920-afd8-cc1a98c189e4",
   "metadata": {},
   "outputs": [],
   "source": [
    "### ans :-  generator functions are those functions that, instead of returning a single value, return an iterable generator object. yield keyword is used to create a generator function.\n"
   ]
  },
  {
   "cell_type": "code",
   "execution_count": 12,
   "id": "fae47231-448a-4644-9ac9-93151845c183",
   "metadata": {},
   "outputs": [],
   "source": [
    " ### example of generator function\n",
    "    def simpleGeneratorFun():\n",
    "    yield 1           \n",
    "    yield 2           \n",
    "    yield 3 "
   ]
  },
  {
   "cell_type": "code",
   "execution_count": 13,
   "id": "32671933-9aaf-48d7-85ea-4530837e4d8a",
   "metadata": {},
   "outputs": [
    {
     "name": "stdout",
     "output_type": "stream",
     "text": [
      "1\n",
      "2\n",
      "3\n"
     ]
    }
   ],
   "source": [
    "for value in simpleGeneratorFun():\n",
    "    print(value)"
   ]
  },
  {
   "cell_type": "code",
   "execution_count": null,
   "id": "67d3fab0-4bdd-41d8-a9b0-409e59e58b5b",
   "metadata": {},
   "outputs": [],
   "source": [
    "\"\"\"Q5. Create a generator function for prime numbers less than 1000. Use the next() method to print the\n",
    "first 20 prime numbers.\"\"\""
   ]
  },
  {
   "cell_type": "code",
   "execution_count": 19,
   "id": "5c0e60c6-7f2d-4bc0-916b-d429c1602ac2",
   "metadata": {},
   "outputs": [],
   "source": [
    "### ans:- \n",
    "def test29():\n",
    "    n = 1\n",
    "    while True:\n",
    "        n += 1\n",
    "        if (n):\n",
    "            yield n"
   ]
  },
  {
   "cell_type": "code",
   "execution_count": 24,
   "id": "cbcf131d-a54d-427b-93fc-92b856c2b762",
   "metadata": {},
   "outputs": [
    {
     "name": "stdout",
     "output_type": "stream",
     "text": [
      "2\n",
      "3\n",
      "4\n",
      "5\n",
      "6\n",
      "7\n",
      "8\n",
      "9\n",
      "10\n",
      "11\n",
      "12\n",
      "13\n",
      "14\n",
      "15\n",
      "16\n",
      "17\n",
      "18\n",
      "19\n",
      "20\n",
      "21\n"
     ]
    }
   ],
   "source": [
    "generator = test29()\n",
    "\n",
    "for i in range(20):\n",
    "    print(next(generator))"
   ]
  },
  {
   "cell_type": "code",
   "execution_count": null,
   "id": "d9cbe40a-8bb3-4e6a-a1b2-d0d267f4cca2",
   "metadata": {},
   "outputs": [],
   "source": [
    " \"\"\" Q6. Write a python program to print the first 10 Fibonacci numbers using a while loop.\"\"\""
   ]
  },
  {
   "cell_type": "code",
   "execution_count": 80,
   "id": "65c4378e-1f77-452e-81e6-63b0e583d414",
   "metadata": {},
   "outputs": [
    {
     "name": "stdin",
     "output_type": "stream",
     "text": [
      "enter the number you want to print 10\n"
     ]
    },
    {
     "name": "stdout",
     "output_type": "stream",
     "text": [
      "0\n",
      "1\n",
      "1\n",
      "2\n",
      "3\n",
      "5\n",
      "8\n",
      "13\n",
      "21\n"
     ]
    }
   ],
   "source": [
    "num=int(input (\"enter the number you want to print\"))\n",
    "a = 0\n",
    "b =1\n",
    "counter = 1\n",
    "while counter <num:\n",
    "    print(a)\n",
    "    c = a+b\n",
    "    a=b\n",
    "    b=c\n",
    "    counter = counter +1"
   ]
  },
  {
   "cell_type": "code",
   "execution_count": null,
   "id": "97ff95a8-b977-463e-85bb-82f13d98eb8d",
   "metadata": {},
   "outputs": [],
   "source": [
    "\"\"\"Q7. Write a List Comprehension to iterate through the given string: ‘pwskills’.\n",
    "Expected output: ['p', 'w', 's', 'k', 'i', 'l', 'l', 's']\"\"\"\n"
   ]
  },
  {
   "cell_type": "code",
   "execution_count": 73,
   "id": "ec0a0915-14f0-4990-bc11-c325ee6d6837",
   "metadata": {},
   "outputs": [
    {
     "data": {
      "text/plain": [
       "['p', 'w', 's', 'k', 'i', 'l', 'l', 's']"
      ]
     },
     "execution_count": 73,
     "metadata": {},
     "output_type": "execute_result"
    }
   ],
   "source": [
    "a = ('pwskills')\n",
    "[i for i in 'pwskills']"
   ]
  },
  {
   "cell_type": "code",
   "execution_count": null,
   "id": "ae8c0a66-b2e9-4aaa-9ffa-631929e7be17",
   "metadata": {},
   "outputs": [],
   "source": [
    "\"\"\"Q8. Write a python program to check whether a given number is Palindrome or not using a while loop.\"\"\""
   ]
  },
  {
   "cell_type": "code",
   "execution_count": 26,
   "id": "c8ac6595-14a4-4e2b-96f6-e7d130e8371a",
   "metadata": {},
   "outputs": [
    {
     "name": "stdin",
     "output_type": "stream",
     "text": [
      "Enter a number: 454\n"
     ]
    },
    {
     "name": "stdout",
     "output_type": "stream",
     "text": [
      "The number is a palindrome\n"
     ]
    }
   ],
   "source": [
    "### ans:- \n",
    "int=input((\"Enter a number:\"))  \n",
    "if(int==int[::-1]):  \n",
    "      print(\"The number is a palindrome\")  \n",
    "else:  \n",
    "      print(\"The number is not a palindrome\")  "
   ]
  },
  {
   "cell_type": "code",
   "execution_count": 63,
   "id": "0e5a3ce9-32cb-4d2d-9c45-9d543c176d90",
   "metadata": {},
   "outputs": [],
   "source": [
    "\"\"\"Q9. Write a code to print odd numbers from 1 to 100 using list comprehension.\"\"\""
   ]
  },
  {
   "cell_type": "code",
   "execution_count": 31,
   "id": "4ca46887-e472-4bc7-a40f-7cb1bf38fbab",
   "metadata": {},
   "outputs": [
    {
     "name": "stdout",
     "output_type": "stream",
     "text": [
      "[1, 2, 3, 4, 5, 6, 7, 8, 9, 10, 11, 12, 13, 14, 15, 16, 17, 18, 19, 20, 21, 22, 23, 24, 25, 26, 27, 28, 29, 30, 31, 32, 33, 34, 35, 36, 37, 38, 39, 40, 41, 42, 43, 44, 45, 46, 47, 48, 49, 50, 51, 52, 53, 54, 55, 56, 57, 58, 59, 60, 61, 62, 63, 64, 65, 66, 67, 68, 69, 70, 71, 72, 73, 74, 75, 76, 77, 78, 79, 80, 81, 82, 83, 84, 85, 86, 87, 88, 89, 90, 91, 92, 93, 94, 95, 96, 97, 98, 99, 100]\n"
     ]
    }
   ],
   "source": [
    "list = [num for num in range(1,101)]\n",
    "print(list)"
   ]
  },
  {
   "cell_type": "code",
   "execution_count": 43,
   "id": "38d77009-8673-4836-bf14-d4f933b6ca6a",
   "metadata": {},
   "outputs": [
    {
     "data": {
      "text/plain": [
       "[1,\n",
       " 3,\n",
       " 5,\n",
       " 7,\n",
       " 9,\n",
       " 11,\n",
       " 13,\n",
       " 15,\n",
       " 17,\n",
       " 19,\n",
       " 21,\n",
       " 23,\n",
       " 25,\n",
       " 27,\n",
       " 29,\n",
       " 31,\n",
       " 33,\n",
       " 35,\n",
       " 37,\n",
       " 39,\n",
       " 41,\n",
       " 43,\n",
       " 45,\n",
       " 47,\n",
       " 49,\n",
       " 51,\n",
       " 53,\n",
       " 55,\n",
       " 57,\n",
       " 59,\n",
       " 61,\n",
       " 63,\n",
       " 65,\n",
       " 67,\n",
       " 69,\n",
       " 71,\n",
       " 73,\n",
       " 75,\n",
       " 77,\n",
       " 79,\n",
       " 81,\n",
       " 83,\n",
       " 85,\n",
       " 87,\n",
       " 89,\n",
       " 91,\n",
       " 93,\n",
       " 95,\n",
       " 97,\n",
       " 99]"
      ]
     },
     "execution_count": 43,
     "metadata": {},
     "output_type": "execute_result"
    }
   ],
   "source": [
    "[i for i in list if i%2!=0]\n"
   ]
  },
  {
   "cell_type": "code",
   "execution_count": null,
   "id": "a94aaa61-2406-4520-9023-464c9b6970f8",
   "metadata": {},
   "outputs": [],
   "source": []
  }
 ],
 "metadata": {
  "kernelspec": {
   "display_name": "Python 3 (ipykernel)",
   "language": "python",
   "name": "python3"
  },
  "language_info": {
   "codemirror_mode": {
    "name": "ipython",
    "version": 3
   },
   "file_extension": ".py",
   "mimetype": "text/x-python",
   "name": "python",
   "nbconvert_exporter": "python",
   "pygments_lexer": "ipython3",
   "version": "3.10.8"
  }
 },
 "nbformat": 4,
 "nbformat_minor": 5
}
