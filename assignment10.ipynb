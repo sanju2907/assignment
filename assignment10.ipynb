{
 "cells": [
  {
   "cell_type": "code",
   "execution_count": 1,
   "id": "2ddcc185-1676-4cf6-9eb8-8eff33e766fe",
   "metadata": {},
   "outputs": [
    {
     "data": {
      "text/plain": [
       "'1. Which function is used to open a file? What are the different modes of opening a file? Explain each mode of file opening.'"
      ]
     },
     "execution_count": 1,
     "metadata": {},
     "output_type": "execute_result"
    }
   ],
   "source": [
    "\"1. Which function is used to open a file? What are the different modes of opening a file? Explain each mode of file opening.\"\n"
   ]
  },
  {
   "cell_type": "code",
   "execution_count": null,
   "id": "a6653afe-d022-4c0a-9d57-991beaaf97d9",
   "metadata": {},
   "outputs": [],
   "source": [
    " ###ans:-\n",
    "\"\"\"Open file using `open()` function\n",
    "* There are many modes for opening a file but 3 are most useful\n",
    "    * Read\n",
    "        * Read the content of the file\n",
    "    * Write\n",
    "        * Create or re-write the content of the file\n",
    "    * Append\n",
    "        * Add more content to the file\"\"\""
   ]
  },
  {
   "cell_type": "code",
   "execution_count": null,
   "id": "35617118-9876-4ae7-8c6a-1a6aa40fe563",
   "metadata": {},
   "outputs": [],
   "source": [
    "###Q2. Why close() function is used? Why is it important to close a file?\n"
   ]
  },
  {
   "cell_type": "code",
   "execution_count": null,
   "id": "a7bde426-dc67-4826-9ea6-4902a5a530fc",
   "metadata": {},
   "outputs": [],
   "source": [
    "##ans:-\n",
    " \"\"\"The close() method closes an open file.\n",
    " You should always close your files, in some cases, due to buffering, changes made to a file may not show until you close the file.\"\"\"\n"
   ]
  },
  {
   "cell_type": "code",
   "execution_count": null,
   "id": "33bdcd40-b1d2-4a6c-8aba-c37612c9c35a",
   "metadata": {},
   "outputs": [],
   "source": [
    "###Q3. Write a python program to create a text file. Write ‘I want to become a Data Scientist’ in that file. Then close the file. Open this file and read the content of the file.\"\"\"\n"
   ]
  },
  {
   "cell_type": "code",
   "execution_count": 6,
   "id": "f074ec8f-707b-4815-ba3c-acd18028702f",
   "metadata": {},
   "outputs": [],
   "source": [
    "f1 = open(\"test.txt\" ,'w' )\n",
    "f1.write(\"I want to become a Data Scientist\")\n",
    "f1.close()\n",
    "data = open(\"test.txt\" , \"r\")\n",
    "data.read()\n",
    "data.close()"
   ]
  },
  {
   "cell_type": "code",
   "execution_count": 7,
   "id": "4a71d766-ed97-4054-a704-09ecc4248dbc",
   "metadata": {},
   "outputs": [],
   "source": [
    "###Q4. Explain the following with python code: read(), readline() and readlines().\n"
   ]
  },
  {
   "cell_type": "code",
   "execution_count": null,
   "id": "ab8aad03-823e-4e91-a84c-efbf0283e7a6",
   "metadata": {},
   "outputs": [],
   "source": [
    "###ans :_\n",
    "\"\"\"* read()\n",
    "    * read and reaturn all lines as string\n",
    "* readline()\n",
    "    * reads a line of the file and return it in the form of the string. \n",
    "* readlines()\n",
    "    * reads all the lines at a single go and then return them as each line a string element in a list\"\"\""
   ]
  },
  {
   "cell_type": "code",
   "execution_count": 8,
   "id": "27d312fa-fe35-4902-819c-bd9b26b13780",
   "metadata": {},
   "outputs": [],
   "source": [
    "###Q5. Explain why with statement is used with open(). What is the advantage of using with statement and open() together?"
   ]
  },
  {
   "cell_type": "code",
   "execution_count": null,
   "id": "b6f596ac-ae73-4406-97a9-2aff463f6b0f",
   "metadata": {},
   "outputs": [],
   "source": [
    "###ans:-\n",
    "\"\"\"* The with keyword in Python is used as a context manager.\n",
    "* It making sure to release these resources after usage\n",
    "    * i.e it make sure that file is closed after used\"\"\"\n"
   ]
  },
  {
   "cell_type": "code",
   "execution_count": 9,
   "id": "cd536277-41b5-4008-b46e-a3c466a1d54e",
   "metadata": {},
   "outputs": [],
   "source": [
    "####Q6. Explain the write() and writelines() functions. Give a suitable example."
   ]
  },
  {
   "cell_type": "code",
   "execution_count": 11,
   "id": "cded238c-ccd7-404a-9e28-8daaccf2fdfe",
   "metadata": {},
   "outputs": [],
   "source": [
    "###ans:-\n",
    "\"\"\"* write() is used to write a string to an already opened file\n",
    "* writelines() method is used to write a list of strings in an opened file\"\"\"\n",
    "\n",
    "\n",
    "f1 = open(\"test.txt\" ,'w' )\n",
    "f1.write(\"Data Science Masters course\")\n",
    "f1.close()\n",
    "f = open(\"demofile3.txt\", \"a\")\n",
    "f.writelines([\"See you soon!\", \"Over and out.\"])\n",
    "f.close()"
   ]
  },
  {
   "cell_type": "code",
   "execution_count": null,
   "id": "f3c5f78f-576d-4442-9e08-dcc1bcd98758",
   "metadata": {},
   "outputs": [],
   "source": []
  }
 ],
 "metadata": {
  "kernelspec": {
   "display_name": "Python 3 (ipykernel)",
   "language": "python",
   "name": "python3"
  },
  "language_info": {
   "codemirror_mode": {
    "name": "ipython",
    "version": 3
   },
   "file_extension": ".py",
   "mimetype": "text/x-python",
   "name": "python",
   "nbconvert_exporter": "python",
   "pygments_lexer": "ipython3",
   "version": "3.10.8"
  }
 },
 "nbformat": 4,
 "nbformat_minor": 5
}
