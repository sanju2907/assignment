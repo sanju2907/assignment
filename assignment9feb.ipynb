{
 "cells": [
  {
   "cell_type": "code",
   "execution_count": 20,
   "id": "0beb877f-5037-4b10-ad5d-0ba9a0ae0018",
   "metadata": {},
   "outputs": [
    {
     "data": {
      "text/plain": [
       "'Q1, Create a vehicle class with an init method having instance variables as name_of_vehicle, max_speed\\nand average_of_vehicle.'"
      ]
     },
     "execution_count": 20,
     "metadata": {},
     "output_type": "execute_result"
    }
   ],
   "source": [
    "\"\"\"Q1, Create a vehicle class with an init method having instance variables as name_of_vehicle, max_speed\n",
    "and average_of_vehicle.\"\"\""
   ]
  },
  {
   "cell_type": "code",
   "execution_count": 27,
   "id": "b99693e9-04d7-4ef4-86f8-289444a6b268",
   "metadata": {},
   "outputs": [],
   "source": [
    "## ans:-\n",
    "class vehicle:\n",
    "    def __init__(self,name_of_vehicle,max_speed,average_of_vehicle):\n",
    "        self.name_of_vehicle = name_of_vehicle\n",
    "        self.max_speed = max_speed\n",
    "        self.average_of_vehicle =average_of_vehicle\n",
    "    def details(self):\n",
    "        return self.name_of_vehicle,self.average_of_vehicle,self.max_speed\n",
    "        "
   ]
  },
  {
   "cell_type": "code",
   "execution_count": 28,
   "id": "f0d67646-69a8-4dd0-8b05-dfbb6198cd59",
   "metadata": {},
   "outputs": [],
   "source": [
    "data = vehicle(\"venue\",120,20)"
   ]
  },
  {
   "cell_type": "code",
   "execution_count": 29,
   "id": "610485d4-6936-4255-9003-9fc7201d0aaf",
   "metadata": {},
   "outputs": [
    {
     "data": {
      "text/plain": [
       "('venue', 20, 120)"
      ]
     },
     "execution_count": 29,
     "metadata": {},
     "output_type": "execute_result"
    }
   ],
   "source": [
    "data.details()"
   ]
  },
  {
   "cell_type": "code",
   "execution_count": 30,
   "id": "9a6201a8-e82f-41d9-85a1-a54f53a6d70b",
   "metadata": {},
   "outputs": [
    {
     "data": {
      "text/plain": [
       "20"
      ]
     },
     "execution_count": 30,
     "metadata": {},
     "output_type": "execute_result"
    }
   ],
   "source": [
    "data.average_of_vehicle"
   ]
  },
  {
   "cell_type": "code",
   "execution_count": 31,
   "id": "67c6b517-c800-4328-893a-f5a70799fbb9",
   "metadata": {},
   "outputs": [
    {
     "data": {
      "text/plain": [
       "'Q2. Create a child class car from the vehicle class created in Que 1, which will inherit the vehicle class.\\nCreate a method named seating_capacity which takes capacity as an argument and returns the name of\\nthe vehicle and its seating capacity.'"
      ]
     },
     "execution_count": 31,
     "metadata": {},
     "output_type": "execute_result"
    }
   ],
   "source": [
    "\"\"\"Q2. Create a child class car from the vehicle class created in Que 1, which will inherit the vehicle class.\n",
    "Create a method named seating_capacity which takes capacity as an argument and returns the name of\n",
    "the vehicle and its seating capacity.\"\"\""
   ]
  },
  {
   "cell_type": "code",
   "execution_count": 32,
   "id": "570244ae-2829-4bea-b603-1228744f726d",
   "metadata": {},
   "outputs": [],
   "source": [
    "## ans:-\n",
    "class vehicle:\n",
    "    def __init__(self,name_of_vehicle,max_speed,average_of_vehicle):\n",
    "        self.name_of_vehicle = name_of_vehicle\n",
    "        self.max_speed = max_speed\n",
    "        self.average_of_vehicle =average_of_vehicle\n",
    "    def details(self):\n",
    "        return self.name_of_vehicle,self.average_of_vehicle,self.max_speed\n",
    "        "
   ]
  },
  {
   "cell_type": "code",
   "execution_count": 51,
   "id": "ee639879-7b07-4e3d-be72-09518e501983",
   "metadata": {},
   "outputs": [],
   "source": [
    "data = vehicle(\"venue\",120,20)"
   ]
  },
  {
   "cell_type": "code",
   "execution_count": 52,
   "id": "8b8a1fd6-7105-4585-bda6-14ea33204c8a",
   "metadata": {},
   "outputs": [],
   "source": [
    "class vehicle2:\n",
    "    def seating_capacity(self, capacity):\n",
    "        return self.seating_capacity\n",
    "    def selfname_of_vehicle(self,name_of_vehicle):\n",
    "        return self.name_of_vehicle\n",
    "    "
   ]
  },
  {
   "cell_type": "code",
   "execution_count": 53,
   "id": "ff499085-5ac1-4297-acfa-0dad614e3072",
   "metadata": {},
   "outputs": [],
   "source": [
    "class vehicle3(vehicle,vehicle2):\n",
    "    def data2(self):\n",
    "        self.name_of_vehicle\n",
    "        self.seating_capacity"
   ]
  },
  {
   "cell_type": "code",
   "execution_count": 54,
   "id": "ff86080b-6314-4a5d-abc7-5ed804297e25",
   "metadata": {},
   "outputs": [
    {
     "ename": "TypeError",
     "evalue": "vehicle.__init__() missing 3 required positional arguments: 'name_of_vehicle', 'max_speed', and 'average_of_vehicle'",
     "output_type": "error",
     "traceback": [
      "\u001b[0;31m---------------------------------------------------------------------------\u001b[0m",
      "\u001b[0;31mTypeError\u001b[0m                                 Traceback (most recent call last)",
      "Cell \u001b[0;32mIn[54], line 1\u001b[0m\n\u001b[0;32m----> 1\u001b[0m data3 \u001b[38;5;241m=\u001b[39m \u001b[43mvehicle\u001b[49m\u001b[43m(\u001b[49m\u001b[43m)\u001b[49m\n",
      "\u001b[0;31mTypeError\u001b[0m: vehicle.__init__() missing 3 required positional arguments: 'name_of_vehicle', 'max_speed', and 'average_of_vehicle'"
     ]
    }
   ],
   "source": [
    "data3 = vehicle()"
   ]
  },
  {
   "cell_type": "code",
   "execution_count": null,
   "id": "3d330b7f-7701-4dae-a869-22f0ac487d44",
   "metadata": {},
   "outputs": [],
   "source": [
    "data."
   ]
  },
  {
   "cell_type": "code",
   "execution_count": 38,
   "id": "5cc89444-6be0-423c-b3b5-cd6323b220e3",
   "metadata": {},
   "outputs": [
    {
     "data": {
      "text/plain": [
       "'Q3. What is multiple inheritance? Write a python code to demonstrate multiple inheritance.'"
      ]
     },
     "execution_count": 38,
     "metadata": {},
     "output_type": "execute_result"
    }
   ],
   "source": [
    "\"\"\"Q3. What is multiple inheritance? Write a python code to demonstrate multiple inheritance.\"\"\""
   ]
  },
  {
   "cell_type": "code",
   "execution_count": 39,
   "id": "ade1013b-cba2-47cb-8da5-2027f10cf4a1",
   "metadata": {},
   "outputs": [
    {
     "data": {
      "text/plain": [
       "' When a class is derived from more than one base class it is called multiple Inheritance. The derived class inherits all the features of the base case.'"
      ]
     },
     "execution_count": 39,
     "metadata": {},
     "output_type": "execute_result"
    }
   ],
   "source": [
    "###ans :-\n",
    "\"\"\" When a class is derived from more than one base class it is called multiple Inheritance. The derived class inherits all the features of the base case.\"\"\"\n"
   ]
  },
  {
   "cell_type": "code",
   "execution_count": 58,
   "id": "e28e4df0-6c58-45cd-913b-0b32f8b0e83f",
   "metadata": {},
   "outputs": [],
   "source": [
    "#code \n",
    "class mother:\n",
    "    def mother(self):\n",
    "        print('mother')\n",
    "        \n",
    "        \n",
    "class  father :\n",
    "    def father(self):\n",
    "        print('father')\n",
    "    \n",
    "class son (mother,father):\n",
    "    def parent(self):\n",
    "        self.mother()\n",
    "        self.father()"
   ]
  },
  {
   "cell_type": "code",
   "execution_count": 59,
   "id": "6c49f66e-0016-4a05-b690-21698248df30",
   "metadata": {},
   "outputs": [],
   "source": [
    "s1 = son()"
   ]
  },
  {
   "cell_type": "code",
   "execution_count": 60,
   "id": "5a3ba760-01bc-458b-8c60-9166d7d9b0e6",
   "metadata": {},
   "outputs": [
    {
     "name": "stdout",
     "output_type": "stream",
     "text": [
      "mother\n",
      "father\n"
     ]
    }
   ],
   "source": [
    "s1.parent()"
   ]
  },
  {
   "cell_type": "code",
   "execution_count": 55,
   "id": "0c3f1a01-a3dc-41e3-b5b9-728eaa1aab59",
   "metadata": {},
   "outputs": [
    {
     "data": {
      "text/plain": [
       "'Q4. What are getter and setter in python? Create a class and create a getter and a setter method in this\\nclass.'"
      ]
     },
     "execution_count": 55,
     "metadata": {},
     "output_type": "execute_result"
    }
   ],
   "source": [
    "\"\"\"Q4. What are getter and setter in python? Create a class and create a getter and a setter method in this\n",
    "class.\"\"\""
   ]
  },
  {
   "cell_type": "code",
   "execution_count": 61,
   "id": "a354ee4d-878d-4ec0-870d-8b9778ba59fa",
   "metadata": {},
   "outputs": [
    {
     "name": "stdout",
     "output_type": "stream",
     "text": [
      "21\n",
      "21\n"
     ]
    }
   ],
   "source": [
    "#ans :-\n",
    "#* We use getters & setters to add validation logic around getting and setting a value.\n",
    "#* To avoid direct access of a class field i.e. private variables cannot be accessed directly or modified by external user.\n",
    "class Geek:\n",
    "\tdef __init__(self, age = 0):\n",
    "\t\tself._age = age\n",
    "\t\n",
    "\t# getter method\n",
    "\tdef get_age(self):\n",
    "\t\treturn self._age\n",
    "\t\n",
    "\t# setter method\n",
    "\tdef set_age(self, x):\n",
    "\t\tself._age = x\n",
    "raj = Geek()\n",
    "# setting the age using setter\n",
    "raj.set_age(21)\n",
    "# retrieving age using getter\n",
    "print(raj.get_age())\n",
    "print(raj._age)"
   ]
  },
  {
   "cell_type": "code",
   "execution_count": 65,
   "id": "e6597105-0dbb-4633-97e8-81d6177f9ff4",
   "metadata": {},
   "outputs": [
    {
     "data": {
      "text/plain": [
       "'Q5.What is method overriding in python? Write a python code to demonstrate method overriding.'"
      ]
     },
     "execution_count": 65,
     "metadata": {},
     "output_type": "execute_result"
    }
   ],
   "source": [
    "\"\"\"Q5.What is method overriding in python? Write a python code to demonstrate method overriding.\"\"\"\n"
   ]
  },
  {
   "cell_type": "code",
   "execution_count": 66,
   "id": "3f1fb8ed-ee73-4556-9833-4a14af3d6f25",
   "metadata": {},
   "outputs": [
    {
     "name": "stdout",
     "output_type": "stream",
     "text": [
      "Car applying break\n"
     ]
    }
   ],
   "source": [
    " # ans:- \n",
    "##Override parent methods in child class.\n",
    "## Change the implementation of a method in child class that is defined in parent class.\n",
    "\n",
    "class Vehicle:\n",
    "    def apply_break(self):\n",
    "        print('Velicle applying break')\n",
    "class Car(Vehicle):\n",
    "    def apply_break(self):\n",
    "        print('Car applying break')\n",
    "        \n",
    "c1 = Car()\n",
    "c1.apply_break()"
   ]
  },
  {
   "cell_type": "code",
   "execution_count": null,
   "id": "0e68a4b1-9fbb-4609-b150-c65994ab6e51",
   "metadata": {},
   "outputs": [],
   "source": []
  }
 ],
 "metadata": {
  "kernelspec": {
   "display_name": "Python 3 (ipykernel)",
   "language": "python",
   "name": "python3"
  },
  "language_info": {
   "codemirror_mode": {
    "name": "ipython",
    "version": 3
   },
   "file_extension": ".py",
   "mimetype": "text/x-python",
   "name": "python",
   "nbconvert_exporter": "python",
   "pygments_lexer": "ipython3",
   "version": "3.10.8"
  }
 },
 "nbformat": 4,
 "nbformat_minor": 5
}
